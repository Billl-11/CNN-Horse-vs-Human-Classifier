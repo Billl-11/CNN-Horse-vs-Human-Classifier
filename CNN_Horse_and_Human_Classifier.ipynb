{
  "nbformat": 4,
  "nbformat_minor": 0,
  "metadata": {
    "colab": {
      "provenance": [],
      "gpuType": "T4",
      "toc_visible": true
    },
    "kernelspec": {
      "name": "python3",
      "display_name": "Python 3"
    },
    "language_info": {
      "name": "python"
    },
    "accelerator": "GPU"
  },
  "cells": [
    {
      "cell_type": "markdown",
      "source": [
        "<a href=\"https://colab.research.google.com/github/Billl-11/CNN-Horse-vs-Human-Classifier/blob/main/CNN_Horse_and_Human_Classifier.ipynb\" target=\"_parent\"><img src=\"https://colab.research.google.com/assets/colab-badge.svg\" alt=\"Open In Colab\"/></a>"
      ],
      "metadata": {
        "id": "HCpuljCL8Z0I"
      }
    },
    {
      "cell_type": "markdown",
      "source": [
        "# Convolutional Neural Network - Horse vs Human Classifier\n",
        "\n",
        "This is an implementation of the Convolutional Neural Network model to classify horse or human images.\n",
        "\n",
        "\n",
        "The datasets used in this project are sourced from the [Introduction to TensorFlow for Artificial Intelligence, Machine Learning, and Deep Learning.](https://www.coursera.org/learn/introduction-tensorflow/home/welcome) The course, created by DeepLearning.AI"
      ],
      "metadata": {
        "id": "WX9ICNlJfVNZ"
      }
    },
    {
      "cell_type": "markdown",
      "source": [
        "## Datasets Preparation\n",
        "There are two types of datasets, which is training datasets and validation datasets. Training datasets are the data that is used to tell the neural network model that 'this is what a horse looks like' and 'this is what a human looks like. Validation datasets are the data that is used to check the accuracy of the model from new images"
      ],
      "metadata": {
        "id": "z7Dy6StMvEQg"
      }
    },
    {
      "cell_type": "code",
      "execution_count": 3,
      "metadata": {
        "colab": {
          "base_uri": "https://localhost:8080/"
        },
        "id": "LUrKvFRAvA7j",
        "outputId": "a5f3e279-8f90-4b3a-9db8-c5d6c1fbcc4b"
      },
      "outputs": [
        {
          "output_type": "stream",
          "name": "stdout",
          "text": [
            "--2023-06-22 16:05:18--  https://storage.googleapis.com/tensorflow-1-public/course2/week3/horse-or-human.zip\n",
            "Resolving storage.googleapis.com (storage.googleapis.com)... 142.251.175.128, 74.125.24.128, 142.251.10.128, ...\n",
            "Connecting to storage.googleapis.com (storage.googleapis.com)|142.251.175.128|:443... connected.\n",
            "HTTP request sent, awaiting response... 200 OK\n",
            "Length: 149574867 (143M) [application/zip]\n",
            "Saving to: ‘horse-or-human.zip’\n",
            "\n",
            "horse-or-human.zip  100%[===================>] 142.65M  21.6MB/s    in 7.9s    \n",
            "\n",
            "2023-06-22 16:05:26 (18.0 MB/s) - ‘horse-or-human.zip’ saved [149574867/149574867]\n",
            "\n",
            "--2023-06-22 16:05:26--  https://storage.googleapis.com/tensorflow-1-public/course2/week3/validation-horse-or-human.zip\n",
            "Resolving storage.googleapis.com (storage.googleapis.com)... 142.251.175.128, 74.125.24.128, 142.251.10.128, ...\n",
            "Connecting to storage.googleapis.com (storage.googleapis.com)|142.251.175.128|:443... connected.\n",
            "HTTP request sent, awaiting response... 200 OK\n",
            "Length: 11480187 (11M) [application/zip]\n",
            "Saving to: ‘validation-horse-or-human.zip’\n",
            "\n",
            "validation-horse-or 100%[===================>]  10.95M  7.00MB/s    in 1.6s    \n",
            "\n",
            "2023-06-22 16:05:28 (7.00 MB/s) - ‘validation-horse-or-human.zip’ saved [11480187/11480187]\n",
            "\n"
          ]
        }
      ],
      "source": [
        "# Download the training datasets\n",
        "!wget https://storage.googleapis.com/tensorflow-1-public/course2/week3/horse-or-human.zip\n",
        "\n",
        "# Download the validation datasets\n",
        "!wget https://storage.googleapis.com/tensorflow-1-public/course2/week3/validation-horse-or-human.zip"
      ]
    },
    {
      "cell_type": "code",
      "source": [
        "import zipfile\n",
        "\n",
        "# extract training dataset\n",
        "zip_file = zipfile.ZipFile('./horse-or-human.zip','r')\n",
        "zip_file.extractall('./horse-or-human')\n",
        "\n",
        "# extract validation dataset\n",
        "zip_file = zipfile.ZipFile('./validation-horse-or-human.zip','r')\n",
        "zip_file.extractall('./validation-horse-or-human')"
      ],
      "metadata": {
        "id": "WV1Mu6ekvSS8"
      },
      "execution_count": 4,
      "outputs": []
    },
    {
      "cell_type": "markdown",
      "source": [
        "> The contents of the .zip are extracted to the base directory ./horse-or-human for training and ./validation-horse-or-human for validating, which in turn each contain horses and humans subdirectories"
      ],
      "metadata": {
        "id": "-yboetRfiXlS"
      }
    },
    {
      "cell_type": "markdown",
      "source": [
        "## Datasets Preprocessing\n",
        "For this dataset, We do not have the label of each image as horses or humans. So, we will use the [ImageDataGenerator](https://www.tensorflow.org/api_docs/python/tf/keras/preprocessing/image/ImageDataGenerator) API instead that will automatically label images according to the directory names and structure. For example, we will have a 'training' directory containing a 'horses' directory and a 'humans' one. ImageDataGenerator will label the images appropriately.\n"
      ],
      "metadata": {
        "id": "4XhggdE0-Gj1"
      }
    },
    {
      "cell_type": "code",
      "source": [
        "from tensorflow.keras.preprocessing.image import ImageDataGenerator\n",
        "\n",
        "# All images will be rescaled to 0-1, 255 as divisor because each color pixel has values ranging from 0 to 255.\n",
        "train_datagenerator = ImageDataGenerator(rescale=1/255)\n",
        "validation_datagenerator = ImageDataGenerator(rescale=1/255)\n",
        "\n",
        "train_generator = train_datagenerator.flow_from_directory(\n",
        "    '/content/horse-or-human', # parent directory that contain sub directory for labels\n",
        "    target_size = (300,300), # make all data sizes uniform\n",
        "    batch_size = 128, # during each iteration of training, the model will process 128 images from the dataset\n",
        "    class_mode = 'binary' # we use binary mode because this is a two-class classification problem\n",
        ")\n",
        "\n",
        "validation_generator = validation_datagenerator.flow_from_directory(\n",
        "    '/content/validation-horse-or-human',\n",
        "    target_size = (300,300),\n",
        "    batch_size = 32,\n",
        "    class_mode = 'binary'\n",
        ")"
      ],
      "metadata": {
        "colab": {
          "base_uri": "https://localhost:8080/"
        },
        "id": "0aSG0AXe9Zvz",
        "outputId": "21f2daac-ac1e-4db2-f377-94bab526929d"
      },
      "execution_count": 5,
      "outputs": [
        {
          "output_type": "stream",
          "name": "stdout",
          "text": [
            "Found 1027 images belonging to 2 classes.\n",
            "Found 256 images belonging to 2 classes.\n"
          ]
        }
      ]
    },
    {
      "cell_type": "markdown",
      "source": [
        "## Build the model"
      ],
      "metadata": {
        "id": "W0yW_NiH0Ylw"
      }
    },
    {
      "cell_type": "markdown",
      "source": [
        "### Neural Network Layers\n",
        "\n",
        "For model architecture, we will use neural network with [Convolution](https://www.tensorflow.org/api_docs/python/tf/keras/layers/Conv2D) layer and [Pooling](https://keras.io/api/layers/pooling_layers/max_pooling2d/) layer.\n",
        "\n",
        "- Convolution is applying filter to images to extract meaningful features from the input image\n",
        "```\n",
        "tf.keras.layers.Conv2D(64, (3,3), activation = 'relu', input_shape(300,300,3))\n",
        "```\n",
        "Code above means a convolution layer with 64 filters, the filters will be 3x3 pixels in size, and the input image shape is 300x300 pixels in 3 color channels (RGB)\n",
        "\n",
        "- Pooling layer  is used for downscaling and spatial dimension reduction\n",
        "```\n",
        "tf.keras.layers.MaxPooling2D(2,2)\n",
        "```\n",
        "The code above means picking the highest pixel values from 2x2 grid pixels, to capture the most important features by selecting the maximum response within each pooling region and reduces the spatial dimensions of the feature obtained from the previous convolutional layers.\n",
        "\n",
        "- We use `activation='sigmoid'` in the last layer to make the output value of neural network a single scalar between 0 and 1, encoding the probability that the current image is class 1 (as opposed to class 0)."
      ],
      "metadata": {
        "id": "smLZaEolx6q1"
      }
    },
    {
      "cell_type": "code",
      "source": [
        "import tensorflow as tf\n",
        "\n",
        "model = tf.keras.models.Sequential([\n",
        "\n",
        "    # first convolution and pooling layer\n",
        "    tf.keras.layers.Conv2D(64, (3,3), activation = 'relu', input_shape = (300,300,3)),\n",
        "    tf.keras.layers.MaxPooling2D(2,2),\n",
        "\n",
        "    # second convolution and pooling layer\n",
        "    tf.keras.layers.Conv2D(64, (3,3), activation = 'relu'),\n",
        "    tf.keras.layers.MaxPooling2D(2,2),\n",
        "\n",
        "    # flatten the pixel vector\n",
        "    tf.keras.layers.Flatten(),\n",
        "\n",
        "    # hidden layer with 512 neuron\n",
        "    tf.keras.layers.Dense(128, activation='relu'),\n",
        "\n",
        "    # hidden layer with 512 neuron\n",
        "    tf.keras.layers.Dense(512, activation='relu'),\n",
        "\n",
        "    # last/output layer, with 1 neuron and sigmoid function where the range is 0-1 because its the probability of 2 classes (either zero or one)\n",
        "    tf.keras.layers.Dense(1, activation='sigmoid')\n",
        "])"
      ],
      "metadata": {
        "id": "4dG3gXU1x1UQ"
      },
      "execution_count": 6,
      "outputs": []
    },
    {
      "cell_type": "code",
      "source": [
        "model.summary()"
      ],
      "metadata": {
        "colab": {
          "base_uri": "https://localhost:8080/"
        },
        "id": "qXKzOFCWx1jN",
        "outputId": "d053b8ca-e19f-42f7-e67e-dae0526945e1"
      },
      "execution_count": 7,
      "outputs": [
        {
          "output_type": "stream",
          "name": "stdout",
          "text": [
            "Model: \"sequential\"\n",
            "_________________________________________________________________\n",
            " Layer (type)                Output Shape              Param #   \n",
            "=================================================================\n",
            " conv2d (Conv2D)             (None, 298, 298, 64)      1792      \n",
            "                                                                 \n",
            " max_pooling2d (MaxPooling2D  (None, 149, 149, 64)     0         \n",
            " )                                                               \n",
            "                                                                 \n",
            " conv2d_1 (Conv2D)           (None, 147, 147, 64)      36928     \n",
            "                                                                 \n",
            " max_pooling2d_1 (MaxPooling  (None, 73, 73, 64)       0         \n",
            " 2D)                                                             \n",
            "                                                                 \n",
            " flatten (Flatten)           (None, 341056)            0         \n",
            "                                                                 \n",
            " dense (Dense)               (None, 128)               43655296  \n",
            "                                                                 \n",
            " dense_1 (Dense)             (None, 512)               66048     \n",
            "                                                                 \n",
            " dense_2 (Dense)             (None, 1)                 513       \n",
            "                                                                 \n",
            "=================================================================\n",
            "Total params: 43,760,577\n",
            "Trainable params: 43,760,577\n",
            "Non-trainable params: 0\n",
            "_________________________________________________________________\n"
          ]
        }
      ]
    },
    {
      "cell_type": "markdown",
      "source": [
        "### Loss and optimizer\n",
        "- To calculate the loss function, we use `loss = binary_crossentropy` because it's a binary classification problem\n",
        "- For optimizer, we use [RMSprob optimization algorithm](https://en.wikipedia.org/wiki/Stochastic_gradient_descent#RMSProp) with learning rate = 0.001"
      ],
      "metadata": {
        "id": "NYOco8OU9JEP"
      }
    },
    {
      "cell_type": "code",
      "source": [
        "from tensorflow.keras.optimizers import RMSprop\n",
        "\n",
        "model.compile(loss = 'binary_crossentropy',\n",
        "              optimizer = RMSprop(learning_rate = 0.001),\n",
        "              metrics = ['accuracy'])"
      ],
      "metadata": {
        "id": "zZZ81D1o897N"
      },
      "execution_count": 8,
      "outputs": []
    },
    {
      "cell_type": "markdown",
      "source": [
        "### Model training\n",
        " We can observe on how fast the model trains and the accuracies we getting in the train and validation sets."
      ],
      "metadata": {
        "id": "CPhWiwn00j7e"
      }
    },
    {
      "cell_type": "code",
      "source": [
        "history = model.fit(\n",
        "      train_generator,\n",
        "      steps_per_epoch=8,\n",
        "      epochs=15,\n",
        "      verbose=1,\n",
        "      validation_data = validation_generator,\n",
        "      validation_steps=8)"
      ],
      "metadata": {
        "colab": {
          "base_uri": "https://localhost:8080/"
        },
        "id": "RxP5ry4UDDpX",
        "outputId": "4ae3d72d-5d12-40f5-d05d-aee992f1120b"
      },
      "execution_count": 9,
      "outputs": [
        {
          "output_type": "stream",
          "name": "stdout",
          "text": [
            "Epoch 1/15\n",
            "8/8 [==============================] - 26s 1s/step - loss: 3.9373 - accuracy: 0.4912 - val_loss: 0.6888 - val_accuracy: 0.5000\n",
            "Epoch 2/15\n",
            "8/8 [==============================] - 10s 1s/step - loss: 0.7657 - accuracy: 0.5228 - val_loss: 0.6967 - val_accuracy: 0.5000\n",
            "Epoch 3/15\n",
            "8/8 [==============================] - 10s 1s/step - loss: 0.7353 - accuracy: 0.5996 - val_loss: 0.6763 - val_accuracy: 0.8594\n",
            "Epoch 4/15\n",
            "8/8 [==============================] - 10s 1s/step - loss: 0.7099 - accuracy: 0.6924 - val_loss: 0.7228 - val_accuracy: 0.5000\n",
            "Epoch 5/15\n",
            "8/8 [==============================] - 9s 1s/step - loss: 0.8758 - accuracy: 0.6874 - val_loss: 0.6373 - val_accuracy: 0.5469\n",
            "Epoch 6/15\n",
            "8/8 [==============================] - 10s 1s/step - loss: 0.7067 - accuracy: 0.6162 - val_loss: 0.6339 - val_accuracy: 0.5078\n",
            "Epoch 7/15\n",
            "8/8 [==============================] - 10s 1s/step - loss: 0.6229 - accuracy: 0.7731 - val_loss: 0.6916 - val_accuracy: 0.5234\n",
            "Epoch 8/15\n",
            "8/8 [==============================] - 10s 1s/step - loss: 0.6546 - accuracy: 0.7430 - val_loss: 1.3369 - val_accuracy: 0.5000\n",
            "Epoch 9/15\n",
            "8/8 [==============================] - 9s 1s/step - loss: 0.5577 - accuracy: 0.7497 - val_loss: 1.4718 - val_accuracy: 0.5156\n",
            "Epoch 10/15\n",
            "8/8 [==============================] - 10s 1s/step - loss: 0.4167 - accuracy: 0.8087 - val_loss: 0.8131 - val_accuracy: 0.5664\n",
            "Epoch 11/15\n",
            "8/8 [==============================] - 10s 1s/step - loss: 0.3590 - accuracy: 0.8398 - val_loss: 0.8292 - val_accuracy: 0.6523\n",
            "Epoch 12/15\n",
            "8/8 [==============================] - 10s 1s/step - loss: 0.1235 - accuracy: 0.9619 - val_loss: 0.6965 - val_accuracy: 0.8555\n",
            "Epoch 13/15\n",
            "8/8 [==============================] - 9s 1s/step - loss: 0.1926 - accuracy: 0.9333 - val_loss: 1.4620 - val_accuracy: 0.6836\n",
            "Epoch 14/15\n",
            "8/8 [==============================] - 10s 1s/step - loss: 0.0471 - accuracy: 0.9873 - val_loss: 1.2711 - val_accuracy: 0.7461\n",
            "Epoch 15/15\n",
            "8/8 [==============================] - 10s 1s/step - loss: 0.0245 - accuracy: 0.9911 - val_loss: 0.4989 - val_accuracy: 0.8828\n"
          ]
        }
      ]
    },
    {
      "cell_type": "markdown",
      "source": [
        "## Model Prediction"
      ],
      "metadata": {
        "id": "Jg-mfDWC0-zW"
      }
    },
    {
      "cell_type": "code",
      "source": [
        "import numpy as np\n",
        "from google.colab import files\n",
        "from tensorflow.keras.utils import load_img, img_to_array\n",
        "import matplotlib.pyplot as plt\n",
        "import matplotlib.image as mpimg\n",
        "\n",
        "uploaded = files.upload()\n",
        "\n",
        "for fn in uploaded.keys():\n",
        "\n",
        "  # predicting images\n",
        "  path = '/content/' + fn\n",
        "  img = load_img(path, target_size=(300, 300))\n",
        "  x = img_to_array(img)\n",
        "  x /= 255\n",
        "  x = np.expand_dims(x, axis=0)\n",
        "\n",
        "  imgplot = plt.imshow(img)\n",
        "\n",
        "  images = np.vstack([x])\n",
        "  classes = model.predict(images, batch_size=10)\n",
        "  print(classes[0])\n",
        "  if classes[0]>0.5:\n",
        "    print(fn + \" is a human\")\n",
        "  else:\n",
        "    print(fn + \" is a horse\")\n"
      ],
      "metadata": {
        "colab": {
          "base_uri": "https://localhost:8080/",
          "height": 546
        },
        "id": "eYDWBaAJNrIZ",
        "outputId": "3bc468cf-6c38-43dc-a06f-635660132c73"
      },
      "execution_count": 10,
      "outputs": [
        {
          "output_type": "display_data",
          "data": {
            "text/plain": [
              "<IPython.core.display.HTML object>"
            ],
            "text/html": [
              "\n",
              "     <input type=\"file\" id=\"files-1ec96498-be19-4b62-b6f2-cd1b9c2fc850\" name=\"files[]\" multiple disabled\n",
              "        style=\"border:none\" />\n",
              "     <output id=\"result-1ec96498-be19-4b62-b6f2-cd1b9c2fc850\">\n",
              "      Upload widget is only available when the cell has been executed in the\n",
              "      current browser session. Please rerun this cell to enable.\n",
              "      </output>\n",
              "      <script>// Copyright 2017 Google LLC\n",
              "//\n",
              "// Licensed under the Apache License, Version 2.0 (the \"License\");\n",
              "// you may not use this file except in compliance with the License.\n",
              "// You may obtain a copy of the License at\n",
              "//\n",
              "//      http://www.apache.org/licenses/LICENSE-2.0\n",
              "//\n",
              "// Unless required by applicable law or agreed to in writing, software\n",
              "// distributed under the License is distributed on an \"AS IS\" BASIS,\n",
              "// WITHOUT WARRANTIES OR CONDITIONS OF ANY KIND, either express or implied.\n",
              "// See the License for the specific language governing permissions and\n",
              "// limitations under the License.\n",
              "\n",
              "/**\n",
              " * @fileoverview Helpers for google.colab Python module.\n",
              " */\n",
              "(function(scope) {\n",
              "function span(text, styleAttributes = {}) {\n",
              "  const element = document.createElement('span');\n",
              "  element.textContent = text;\n",
              "  for (const key of Object.keys(styleAttributes)) {\n",
              "    element.style[key] = styleAttributes[key];\n",
              "  }\n",
              "  return element;\n",
              "}\n",
              "\n",
              "// Max number of bytes which will be uploaded at a time.\n",
              "const MAX_PAYLOAD_SIZE = 100 * 1024;\n",
              "\n",
              "function _uploadFiles(inputId, outputId) {\n",
              "  const steps = uploadFilesStep(inputId, outputId);\n",
              "  const outputElement = document.getElementById(outputId);\n",
              "  // Cache steps on the outputElement to make it available for the next call\n",
              "  // to uploadFilesContinue from Python.\n",
              "  outputElement.steps = steps;\n",
              "\n",
              "  return _uploadFilesContinue(outputId);\n",
              "}\n",
              "\n",
              "// This is roughly an async generator (not supported in the browser yet),\n",
              "// where there are multiple asynchronous steps and the Python side is going\n",
              "// to poll for completion of each step.\n",
              "// This uses a Promise to block the python side on completion of each step,\n",
              "// then passes the result of the previous step as the input to the next step.\n",
              "function _uploadFilesContinue(outputId) {\n",
              "  const outputElement = document.getElementById(outputId);\n",
              "  const steps = outputElement.steps;\n",
              "\n",
              "  const next = steps.next(outputElement.lastPromiseValue);\n",
              "  return Promise.resolve(next.value.promise).then((value) => {\n",
              "    // Cache the last promise value to make it available to the next\n",
              "    // step of the generator.\n",
              "    outputElement.lastPromiseValue = value;\n",
              "    return next.value.response;\n",
              "  });\n",
              "}\n",
              "\n",
              "/**\n",
              " * Generator function which is called between each async step of the upload\n",
              " * process.\n",
              " * @param {string} inputId Element ID of the input file picker element.\n",
              " * @param {string} outputId Element ID of the output display.\n",
              " * @return {!Iterable<!Object>} Iterable of next steps.\n",
              " */\n",
              "function* uploadFilesStep(inputId, outputId) {\n",
              "  const inputElement = document.getElementById(inputId);\n",
              "  inputElement.disabled = false;\n",
              "\n",
              "  const outputElement = document.getElementById(outputId);\n",
              "  outputElement.innerHTML = '';\n",
              "\n",
              "  const pickedPromise = new Promise((resolve) => {\n",
              "    inputElement.addEventListener('change', (e) => {\n",
              "      resolve(e.target.files);\n",
              "    });\n",
              "  });\n",
              "\n",
              "  const cancel = document.createElement('button');\n",
              "  inputElement.parentElement.appendChild(cancel);\n",
              "  cancel.textContent = 'Cancel upload';\n",
              "  const cancelPromise = new Promise((resolve) => {\n",
              "    cancel.onclick = () => {\n",
              "      resolve(null);\n",
              "    };\n",
              "  });\n",
              "\n",
              "  // Wait for the user to pick the files.\n",
              "  const files = yield {\n",
              "    promise: Promise.race([pickedPromise, cancelPromise]),\n",
              "    response: {\n",
              "      action: 'starting',\n",
              "    }\n",
              "  };\n",
              "\n",
              "  cancel.remove();\n",
              "\n",
              "  // Disable the input element since further picks are not allowed.\n",
              "  inputElement.disabled = true;\n",
              "\n",
              "  if (!files) {\n",
              "    return {\n",
              "      response: {\n",
              "        action: 'complete',\n",
              "      }\n",
              "    };\n",
              "  }\n",
              "\n",
              "  for (const file of files) {\n",
              "    const li = document.createElement('li');\n",
              "    li.append(span(file.name, {fontWeight: 'bold'}));\n",
              "    li.append(span(\n",
              "        `(${file.type || 'n/a'}) - ${file.size} bytes, ` +\n",
              "        `last modified: ${\n",
              "            file.lastModifiedDate ? file.lastModifiedDate.toLocaleDateString() :\n",
              "                                    'n/a'} - `));\n",
              "    const percent = span('0% done');\n",
              "    li.appendChild(percent);\n",
              "\n",
              "    outputElement.appendChild(li);\n",
              "\n",
              "    const fileDataPromise = new Promise((resolve) => {\n",
              "      const reader = new FileReader();\n",
              "      reader.onload = (e) => {\n",
              "        resolve(e.target.result);\n",
              "      };\n",
              "      reader.readAsArrayBuffer(file);\n",
              "    });\n",
              "    // Wait for the data to be ready.\n",
              "    let fileData = yield {\n",
              "      promise: fileDataPromise,\n",
              "      response: {\n",
              "        action: 'continue',\n",
              "      }\n",
              "    };\n",
              "\n",
              "    // Use a chunked sending to avoid message size limits. See b/62115660.\n",
              "    let position = 0;\n",
              "    do {\n",
              "      const length = Math.min(fileData.byteLength - position, MAX_PAYLOAD_SIZE);\n",
              "      const chunk = new Uint8Array(fileData, position, length);\n",
              "      position += length;\n",
              "\n",
              "      const base64 = btoa(String.fromCharCode.apply(null, chunk));\n",
              "      yield {\n",
              "        response: {\n",
              "          action: 'append',\n",
              "          file: file.name,\n",
              "          data: base64,\n",
              "        },\n",
              "      };\n",
              "\n",
              "      let percentDone = fileData.byteLength === 0 ?\n",
              "          100 :\n",
              "          Math.round((position / fileData.byteLength) * 100);\n",
              "      percent.textContent = `${percentDone}% done`;\n",
              "\n",
              "    } while (position < fileData.byteLength);\n",
              "  }\n",
              "\n",
              "  // All done.\n",
              "  yield {\n",
              "    response: {\n",
              "      action: 'complete',\n",
              "    }\n",
              "  };\n",
              "}\n",
              "\n",
              "scope.google = scope.google || {};\n",
              "scope.google.colab = scope.google.colab || {};\n",
              "scope.google.colab._files = {\n",
              "  _uploadFiles,\n",
              "  _uploadFilesContinue,\n",
              "};\n",
              "})(self);\n",
              "</script> "
            ]
          },
          "metadata": {}
        },
        {
          "output_type": "stream",
          "name": "stdout",
          "text": [
            "Saving download.jpg to download.jpg\n",
            "1/1 [==============================] - 0s 249ms/step\n",
            "[1.441986e-07]\n",
            "download.jpg is a horse\n"
          ]
        },
        {
          "output_type": "display_data",
          "data": {
            "text/plain": [
              "<Figure size 640x480 with 1 Axes>"
            ],
            "image/png": "[encoded data removed]"
          },
          "metadata": {}
        }
      ]
    },
    {
      "cell_type": "code",
      "source": [
        "# import os, signal\n",
        "# os.kill(os.getpid(), signal.SIGKILL)"
      ],
      "metadata": {
        "id": "ezqzti7qE-gE"
      },
      "execution_count": null,
      "outputs": []
    },
    {
      "cell_type": "code",
      "source": [
        "## Define datasets directories\n",
        "# import os\n",
        "\n",
        "# # training datasets\n",
        "# train_horse = os.path.join('./horse-or-human/horses')\n",
        "# train_human = os.path.join('./horse-or-human/humans')\n",
        "\n",
        "\n",
        "# # validation datasets\n",
        "# validation_horse = os.path.join('./validation-horse-or-human/horses')\n",
        "# validation_human = os.path.join('./validation-horse-or-human/humans')"
      ],
      "metadata": {
        "id": "X0pGLOJuvetK"
      },
      "execution_count": 4,
      "outputs": []
    },
    {
      "cell_type": "code",
      "source": [
        "# print(f'total training horse images: {len(os.listdir(train_horse))}')\n",
        "# print(f'total training human images: {len(os.listdir(train_human))}')\n",
        "# print(f'total validation horse images: {len(os.listdir(validation_horse))}')\n",
        "# print(f'total validation human images: {len(os.listdir(validation_human))}')"
      ],
      "metadata": {
        "id": "iYUOZaU_xWzd"
      },
      "execution_count": null,
      "outputs": []
    }
  ]
}
